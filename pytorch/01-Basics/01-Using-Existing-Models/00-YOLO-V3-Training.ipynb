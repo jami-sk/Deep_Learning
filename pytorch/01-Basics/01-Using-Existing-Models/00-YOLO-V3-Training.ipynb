{
 "cells": [
  {
   "cell_type": "markdown",
   "metadata": {},
   "source": [
    "### YOLO-V3-Training on Custom Data\n",
    "- Clone The Repository (Yolo v3 from https://github.com/ultralytics/yolov3)\n",
    "- Update the architecture based of the application\n",
    "- Load and Preprocess Data\n",
    "- Arrange Data in Required Format\n",
    "- Train The Model\n",
    "- Model Evaluation"
   ]
  },
  {
   "cell_type": "markdown",
   "metadata": {},
   "source": [
    "#### Import and update the the YOLOV3 code from github\n"
   ]
  },
  {
   "cell_type": "code",
   "execution_count": 2,
   "metadata": {},
   "outputs": [
    {
     "name": "stderr",
     "output_type": "stream",
     "text": [
      "Cloning into 'yolov3'...\n"
     ]
    }
   ],
   "source": [
    "# download the library ultralytics\n",
    "!git clone https://github.com/ultralytics/yolov3"
   ]
  },
  {
   "cell_type": "code",
   "execution_count": 3,
   "metadata": {},
   "outputs": [],
   "source": [
    "# go to folder yolov3\n",
    "!cd yolov3"
   ]
  },
  {
   "cell_type": "code",
   "execution_count": null,
   "metadata": {},
   "outputs": [],
   "source": [
    "%pip install -r requirements.txt"
   ]
  },
  {
   "cell_type": "code",
   "execution_count": null,
   "metadata": {},
   "outputs": [],
   "source": [
    "# moving the uploaded file to desired location \n",
    "%mv /content/yolov3.cfg /content/yolov3/cfg/yolov3.cfg"
   ]
  },
  {
   "cell_type": "markdown",
   "metadata": {},
   "source": [
    "### Loading and Cleaning Data\n",
    "- load the images from the folder\n",
    "- take the cv file and save individual files as .txt files"
   ]
  },
  {
   "cell_type": "code",
   "execution_count": 1,
   "metadata": {},
   "outputs": [],
   "source": [
    "# import required libraries\n",
    "import numpy as np\n",
    "import pandas as pd\n",
    "from PIL import Image"
   ]
  },
  {
   "cell_type": "code",
   "execution_count": 2,
   "metadata": {},
   "outputs": [
    {
     "data": {
      "text/html": [
       "<div>\n",
       "<style scoped>\n",
       "    .dataframe tbody tr th:only-of-type {\n",
       "        vertical-align: middle;\n",
       "    }\n",
       "\n",
       "    .dataframe tbody tr th {\n",
       "        vertical-align: top;\n",
       "    }\n",
       "\n",
       "    .dataframe thead th {\n",
       "        text-align: right;\n",
       "    }\n",
       "</style>\n",
       "<table border=\"1\" class=\"dataframe\">\n",
       "  <thead>\n",
       "    <tr style=\"text-align: right;\">\n",
       "      <th></th>\n",
       "      <th>icon</th>\n",
       "      <th>ymax</th>\n",
       "      <th>xmax</th>\n",
       "      <th>ymin</th>\n",
       "      <th>image_names</th>\n",
       "      <th>xmin</th>\n",
       "      <th>class</th>\n",
       "    </tr>\n",
       "  </thead>\n",
       "  <tbody>\n",
       "    <tr>\n",
       "      <th>0</th>\n",
       "      <td>rcta_warning_icon</td>\n",
       "      <td>1252</td>\n",
       "      <td>1673</td>\n",
       "      <td>854</td>\n",
       "      <td>1.jpg</td>\n",
       "      <td>1221</td>\n",
       "      <td>2</td>\n",
       "    </tr>\n",
       "    <tr>\n",
       "      <th>1</th>\n",
       "      <td>left_mirror_icon</td>\n",
       "      <td>503</td>\n",
       "      <td>1310</td>\n",
       "      <td>105</td>\n",
       "      <td>1.jpg</td>\n",
       "      <td>858</td>\n",
       "      <td>0</td>\n",
       "    </tr>\n",
       "    <tr>\n",
       "      <th>2</th>\n",
       "      <td>left_mirror_icon</td>\n",
       "      <td>838</td>\n",
       "      <td>578</td>\n",
       "      <td>733</td>\n",
       "      <td>1.jpg</td>\n",
       "      <td>385</td>\n",
       "      <td>0</td>\n",
       "    </tr>\n",
       "    <tr>\n",
       "      <th>3</th>\n",
       "      <td>left_mirror_icon</td>\n",
       "      <td>1372</td>\n",
       "      <td>1231</td>\n",
       "      <td>1267</td>\n",
       "      <td>1.jpg</td>\n",
       "      <td>1038</td>\n",
       "      <td>0</td>\n",
       "    </tr>\n",
       "    <tr>\n",
       "      <th>4</th>\n",
       "      <td>touch_control_icon</td>\n",
       "      <td>937</td>\n",
       "      <td>1152</td>\n",
       "      <td>539</td>\n",
       "      <td>1.jpg</td>\n",
       "      <td>700</td>\n",
       "      <td>5</td>\n",
       "    </tr>\n",
       "  </tbody>\n",
       "</table>\n",
       "</div>"
      ],
      "text/plain": [
       "                 icon  ymax  xmax  ymin image_names  xmin  class\n",
       "0   rcta_warning_icon  1252  1673   854       1.jpg  1221      2\n",
       "1    left_mirror_icon   503  1310   105       1.jpg   858      0\n",
       "2    left_mirror_icon   838   578   733       1.jpg   385      0\n",
       "3    left_mirror_icon  1372  1231  1267       1.jpg  1038      0\n",
       "4  touch_control_icon   937  1152   539       1.jpg   700      5"
      ]
     },
     "execution_count": 2,
     "metadata": {},
     "output_type": "execute_result"
    }
   ],
   "source": [
    "data_df = pd.read_csv(\"E:\\\\Work\\\\Gen2-Display\\\\Gen2_Icon_Detection_Dataset_08-23-22\\\\data.csv\")\n",
    "data_df.drop('Unnamed: 0', axis=1, inplace=True)\n",
    "data_df[\"class\"] = data_df['icon'].replace({\"left_mirror_icon\":0, \"rcta_defect\":1, \"rcta_warning_icon\":2, \"reset_icon\":3, \"right_mirror_icon\":4, \"touch_control_icon\":5})\n",
    "data_df.head()"
   ]
  },
  {
   "cell_type": "code",
   "execution_count": 6,
   "metadata": {},
   "outputs": [],
   "source": [
    "import os\n",
    "os.makedirs(\"E:\\\\Work\\\\Gen2-Display\\\\Gen2_Icon_Detection_Dataset_08-23-22\\\\labels\", exist_ok=True)"
   ]
  },
  {
   "cell_type": "code",
   "execution_count": 24,
   "metadata": {},
   "outputs": [],
   "source": [
    "#load the data and save individual data into .txt files\n",
    "dataset_path = \"E:\\\\Work\\\\Gen2-Display\\\\Gen2_Icon_Detection_Dataset_08-23-22\\\\\"\n",
    "images_path = \"E:\\\\Work\\\\Gen2-Display\\\\Gen2_Icon_Detection_Dataset_08-23-22\\\\images\\\\\"\n",
    "labels_path = \"E:\\\\Work\\\\Gen2-Display\\\\Gen2_Icon_Detection_Dataset_08-23-22\\\\labels\\\\\"\n",
    "for name in data_df.image_names.unique():\n",
    "    #take individual images\n",
    "    image_df = data_df[data_df.image_names==name].copy()\n",
    "\n",
    "    image_df['x_center'] = (image_df.xmax +image_df.xmin)/2\n",
    "    image_df['y_center'] = (image_df.ymax +image_df.ymin)/2\n",
    "    image_df['width'] = (image_df.xmax - image_df.xmin)\n",
    "    image_df['height'] = (image_df.ymax - image_df.ymin)\n",
    "\n",
    "    W,H = Image.open(images_path+name).size\n",
    "\n",
    "    # normailze the bounding boxes\n",
    "    image_df['x_center'] = image_df['x_center']/W\n",
    "    image_df['y_center'] = image_df['y_center']/H\n",
    "    image_df['width'] = image_df['width']/W\n",
    "    image_df['height'] = image_df['height']/H\n",
    "\n",
    "\n",
    "    image_df[['class', 'x_center', 'y_center', 'width', 'height']].to_csv(labels_path + name.split('.')[0] + '.txt', index=False, header=None, sep=\" \")\n"
   ]
  },
  {
   "cell_type": "code",
   "execution_count": 25,
   "metadata": {},
   "outputs": [],
   "source": [
    "# file containing train image names\n",
    "iconDet_train = data_df.image_names.apply(lambda x: images_path + x).unique()\n",
    "np.savetxt(f\"{dataset_path}iconDet_train.txt\", iconDet_train, fmt=\"%s\")"
   ]
  },
  {
   "cell_type": "code",
   "execution_count": 26,
   "metadata": {},
   "outputs": [],
   "source": [
    "# file containing validation names\n",
    "iconDet_val = data_df.image_names.apply(lambda x: images_path + x).unique()\n",
    "np.savetxt(f\"{dataset_path}iconDet_val.txt\", iconDet_val, fmt=\"%s\")"
   ]
  },
  {
   "cell_type": "code",
   "execution_count": 27,
   "metadata": {},
   "outputs": [],
   "source": [
    "with open(f'{dataset_path}iconDet.names', 'w') as f:\n",
    "    f.write(\"left_mirror_icon\\nrcta_defect\\nrcta_warning_icon\\nreset_icon\\nright_mirror_icon\\ntouch_control_icon\")"
   ]
  },
  {
   "cell_type": "code",
   "execution_count": 28,
   "metadata": {},
   "outputs": [],
   "source": [
    "with open(f'{dataset_path}iconDet.data', 'w') as f:\n",
    "    f.write(f'classes=6\\ntrain={dataset_path}iconDet_train.txt\\nvalid={dataset_path}iconDet_val.txt\\nnames={dataset_path}iconDet.names')"
   ]
  },
  {
   "cell_type": "markdown",
   "metadata": {},
   "source": [
    "### Train the model"
   ]
  },
  {
   "cell_type": "code",
   "execution_count": 3,
   "metadata": {},
   "outputs": [
    {
     "name": "stdout",
     "output_type": "stream",
     "text": [
      "Apex recommended for faster mixed precision training: https://github.com/NVIDIA/apex\n",
      "Namespace(adam=False, batch_size=16, bucket='', cache_images=False, cfg='.\\\\yolov3\\\\cfg\\\\yolov3.cfg', data='E:\\\\\\\\Work\\\\\\\\Gen2-Display\\\\\\\\Gen2_Icon_Detection_Dataset_08-23-22\\\\\\\\iconDet.data', device='', epochs=15, evolve=False, freeze_layers=False, img_size=[640], multi_scale=False, name='', nosave=False, notest=False, rect=False, resume=False, single_cls=False, weights='D:\\\\Development\\\\Deep_Learning\\\\pytorch\\\\01-Basics\\\\weights\\\\yolov3.pt')\n",
      "Using CPU\n",
      "\n",
      "Start Tensorboard with \"tensorboard --logdir=runs\", view at http://localhost:6006/\n",
      "WARNING: smart bias initialization failure.\n",
      "WARNING: smart bias initialization failure.\n",
      "WARNING: smart bias initialization failure.\n",
      "Model Summary: 222 layers, 6.15507e+07 parameters, 6.15507e+07 gradients\n",
      "Optimizer groups: 75 .bias, 75 Conv2d.weight, 72 other\n"
     ]
    },
    {
     "name": "stderr",
     "output_type": "stream",
     "text": [
      "2022-08-23 17:24:34.415854: W tensorflow/stream_executor/platform/default/dso_loader.cc:64] Could not load dynamic library 'cudart64_110.dll'; dlerror: cudart64_110.dll not found\n",
      "2022-08-23 17:24:34.416177: I tensorflow/stream_executor/cuda/cudart_stub.cc:29] Ignore above cudart dlerror if you do not have a GPU set up on your machine.\n",
      "c:\\Users\\F85SJ00\\Anaconda3\\envs\\DL_PT\\lib\\site-packages\\torch\\functional.py:478: UserWarning: torch.meshgrid: in an upcoming release, it will be required to pass the indexing argument. (Triggered internally at  C:\\actions-runner\\_work\\pytorch\\pytorch\\builder\\windows\\pytorch\\aten\\src\\ATen\\native\\TensorShape.cpp:2895.)\n",
      "  return _VF.meshgrid(tensors, **kwargs)  # type: ignore[attr-defined]\n",
      "Traceback (most recent call last):\n",
      "  File \"./yolov3/train.py\", line 431, in <module>\n",
      "    train(hyp)  # train normally\n",
      "  File \"./yolov3/train.py\", line 119, in train\n",
      "    ckpt = torch.load(weights, map_location=device)\n",
      "  File \"c:\\Users\\F85SJ00\\Anaconda3\\envs\\DL_PT\\lib\\site-packages\\torch\\serialization.py\", line 712, in load\n",
      "    return _load(opened_zipfile, map_location, pickle_module, **pickle_load_args)\n",
      "  File \"c:\\Users\\F85SJ00\\Anaconda3\\envs\\DL_PT\\lib\\site-packages\\torch\\serialization.py\", line 1049, in _load\n",
      "    result = unpickler.load()\n",
      "  File \"c:\\Users\\F85SJ00\\Anaconda3\\envs\\DL_PT\\lib\\site-packages\\torch\\serialization.py\", line 1042, in find_class\n",
      "    return super().find_class(mod_name, name)\n",
      "ModuleNotFoundError: No module named 'models.yolo'; 'models' is not a package\n"
     ]
    }
   ],
   "source": [
    "!python ./yolov3/train.py --weights \"D:\\Development\\Deep_Learning\\pytorch\\01-Basics\\weights\\yolov3.pt\" --cfg yolov3.cfg --data \"E:\\\\Work\\\\Gen2-Display\\\\Gen2_Icon_Detection_Dataset_08-23-22\\\\iconDet.data\" --img-size 640 --epochs 15"
   ]
  },
  {
   "cell_type": "code",
   "execution_count": null,
   "metadata": {},
   "outputs": [],
   "source": []
  }
 ],
 "metadata": {
  "kernelspec": {
   "display_name": "Python 3.8.12 ('DL_PT')",
   "language": "python",
   "name": "python3"
  },
  "language_info": {
   "codemirror_mode": {
    "name": "ipython",
    "version": 3
   },
   "file_extension": ".py",
   "mimetype": "text/x-python",
   "name": "python",
   "nbconvert_exporter": "python",
   "pygments_lexer": "ipython3",
   "version": "3.8.12"
  },
  "orig_nbformat": 4,
  "vscode": {
   "interpreter": {
    "hash": "f0f48898c4b18233cc76a2987cd88405e29ffeb628d5e439f4035f1d0e31c47a"
   }
  }
 },
 "nbformat": 4,
 "nbformat_minor": 2
}
