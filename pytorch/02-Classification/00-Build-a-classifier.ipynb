{
 "cells": [
  {
   "cell_type": "code",
   "execution_count": 1,
   "metadata": {},
   "outputs": [],
   "source": [
    "import torch\n",
    "from torch import nn\n",
    "from torch.utils.data import DataLoader\n",
    "from torchvision import datasets\n",
    "from torchvision.transforms import ToTensor\n",
    "import numpy as np\n",
    "import pandas as pd\n",
    "import matplotlib.pyplot as plt\n",
    "import os, sys, cv2\n",
    "import PIL\n",
    "%matplotlib inline"
   ]
  },
  {
   "cell_type": "markdown",
   "metadata": {},
   "source": [
    "### Using a Neural Network"
   ]
  },
  {
   "cell_type": "code",
   "execution_count": 2,
   "metadata": {},
   "outputs": [],
   "source": [
    "training_data = datasets.FashionMNIST(root=\"../../datasets/Datasets/FashinMNIST/\", train=True, download=True, transform=ToTensor())\n",
    "test_data = datasets.FashionMNIST(root=\"../../datasets/Datasets/FashinMNIST/\", train=False, download=True, transform=ToTensor())"
   ]
  },
  {
   "cell_type": "code",
   "execution_count": 3,
   "metadata": {},
   "outputs": [
    {
     "name": "stdout",
     "output_type": "stream",
     "text": [
      "Shape of Training Images: [N, C, H, W]: torch.Size([64, 1, 28, 28])\n",
      "Shape of Training Labels: [y]: torch.Size([64]) torch.int64\n"
     ]
    }
   ],
   "source": [
    "bacth_size = 64\n",
    "\n",
    "train_dataloader = DataLoader(training_data, batch_size=bacth_size)\n",
    "test_dataloader = DataLoader(test_data, batch_size=bacth_size)\n",
    "\n",
    "for X,y in test_dataloader:\n",
    "    print(f\"Shape of Training Images: [N, C, H, W]: {X.shape}\")\n",
    "    print(f\"Shape of Training Labels: [y]: {y.shape} {y.dtype}\")\n",
    "    break"
   ]
  },
  {
   "cell_type": "code",
   "execution_count": 16,
   "metadata": {},
   "outputs": [
    {
     "name": "stdout",
     "output_type": "stream",
     "text": [
      "Using cpu\n",
      "NeuralNetwork(\n",
      "  (flatten): Flatten(start_dim=1, end_dim=-1)\n",
      "  (linear_relu_stack): Sequential(\n",
      "    (0): Linear(in_features=784, out_features=512, bias=True)\n",
      "    (1): ReLU()\n",
      "    (2): Linear(in_features=512, out_features=512, bias=True)\n",
      "    (3): ReLU()\n",
      "    (4): Linear(in_features=512, out_features=10, bias=True)\n",
      "  )\n",
      ")\n"
     ]
    }
   ],
   "source": [
    "device = \"cuda\" if torch.cuda.is_available() else \"cpu\"\n",
    "print(f\"Using {device}\")\n",
    "\n",
    "class NeuralNetwork(nn.Module):\n",
    "    def __init__(self):\n",
    "        super(NeuralNetwork, self).__init__()\n",
    "        self.flatten = nn.Flatten()\n",
    "        self.linear_relu_stack = nn.Sequential(\n",
    "            nn.Linear(28*28, 512),\n",
    "            nn.ReLU(),\n",
    "            nn.Linear(512, 512),\n",
    "            nn.ReLU(),\n",
    "            nn.Linear(512, 10),\n",
    "        )\n",
    "    \n",
    "    def forward(self, x):\n",
    "        x = self.flatten(x)\n",
    "        logits = self.linear_relu_stack(x)\n",
    "        return logits\n",
    "\n",
    "\n",
    "model = NeuralNetwork().to(device)\n",
    "print(model)"
   ]
  },
  {
   "cell_type": "code",
   "execution_count": 17,
   "metadata": {},
   "outputs": [],
   "source": [
    "loss_fn = nn.CrossEntropyLoss()\n",
    "optimizer = torch.optim.SGD(model.parameters(), lr=1e-3)\n",
    "\n",
    "def train(dataloader, model, loss_fn, optimizer):\n",
    "    size = len(dataloader.dataset)\n",
    "    model.train()\n",
    "    for batch, (X, y) in enumerate(dataloader):\n",
    "        X,y = X.to(device), y.to(device)\n",
    "        pred = model(X)\n",
    "        loss = loss_fn(pred, y)\n",
    "\n",
    "        optimizer.zero_grad()\n",
    "        loss.backward()\n",
    "        optimizer.step()\n",
    "\n",
    "        if batch%100==0:\n",
    "            loss, current = loss.item(), batch*len(X)\n",
    "            print(f\"Loss: {loss:>7f} [{current:>5d}/{size:>5d}]\")\n",
    "\n",
    "\n",
    "def test(dataloader, model, loss_fn):\n",
    "    size = len(dataloader.dataset)\n",
    "    num_batches = len(dataloader)\n",
    "    model.eval()\n",
    "    test_loss, correct = 0,0\n",
    "    with torch.no_grad():\n",
    "        for X,y in dataloader:\n",
    "            X,y = X.to(device), y.to(device)\n",
    "            pred = model(X)\n",
    "            test_loss += loss_fn(pred, y).item()\n",
    "            correct += (pred.argmax(1)==y).type(torch.float).sum().item()\n",
    "    test_loss /= num_batches\n",
    "    correct /= size\n",
    "    print(f\"Test Error: \\n Accuracy: {100*correct:>0.1f}%, Avg Loss: {test_loss:>8f} \\n\")"
   ]
  },
  {
   "cell_type": "code",
   "execution_count": 14,
   "metadata": {},
   "outputs": [
    {
     "name": "stdout",
     "output_type": "stream",
     "text": [
      "Epoch 1\n",
      "---------------------------------------\n",
      "Loss: 2.302726 [    0/60000]\n",
      "Loss: 2.302453 [ 6400/60000]\n",
      "Loss: 2.302516 [12800/60000]\n",
      "Loss: 2.302180 [19200/60000]\n",
      "Loss: 2.301488 [25600/60000]\n",
      "Loss: 2.302208 [32000/60000]\n",
      "Loss: 2.301138 [38400/60000]\n",
      "Loss: 2.300889 [44800/60000]\n",
      "Loss: 2.302280 [51200/60000]\n",
      "Loss: 2.301029 [57600/60000]\n",
      "Test Error: \n",
      " Accuracy: 19.0%, Avg Loss: 2.301170 \n",
      "\n",
      "Epoch 2\n",
      "---------------------------------------\n",
      "Loss: 2.301444 [    0/60000]\n",
      "Loss: 2.301219 [ 6400/60000]\n",
      "Loss: 2.301034 [12800/60000]\n",
      "Loss: 2.301037 [19200/60000]\n",
      "Loss: 2.300129 [25600/60000]\n",
      "Loss: 2.300610 [32000/60000]\n",
      "Loss: 2.299980 [38400/60000]\n",
      "Loss: 2.299441 [44800/60000]\n",
      "Loss: 2.301043 [51200/60000]\n",
      "Loss: 2.299663 [57600/60000]\n",
      "Test Error: \n",
      " Accuracy: 28.9%, Avg Loss: 2.299791 \n",
      "\n",
      "Epoch 3\n",
      "---------------------------------------\n",
      "Loss: 2.300158 [    0/60000]\n",
      "Loss: 2.299975 [ 6400/60000]\n",
      "Loss: 2.299532 [12800/60000]\n",
      "Loss: 2.299861 [19200/60000]\n",
      "Loss: 2.298727 [25600/60000]\n",
      "Loss: 2.298967 [32000/60000]\n",
      "Loss: 2.298779 [38400/60000]\n",
      "Loss: 2.297950 [44800/60000]\n",
      "Loss: 2.299781 [51200/60000]\n",
      "Loss: 2.298232 [57600/60000]\n",
      "Test Error: \n",
      " Accuracy: 35.0%, Avg Loss: 2.298362 \n",
      "\n",
      "Epoch 4\n",
      "---------------------------------------\n",
      "Loss: 2.298860 [    0/60000]\n",
      "Loss: 2.298691 [ 6400/60000]\n",
      "Loss: 2.297974 [12800/60000]\n",
      "Loss: 2.298620 [19200/60000]\n",
      "Loss: 2.297262 [25600/60000]\n",
      "Loss: 2.297228 [32000/60000]\n",
      "Loss: 2.297512 [38400/60000]\n",
      "Loss: 2.296360 [44800/60000]\n",
      "Loss: 2.298471 [51200/60000]\n",
      "Loss: 2.296702 [57600/60000]\n",
      "Test Error: \n",
      " Accuracy: 39.0%, Avg Loss: 2.296846 \n",
      "\n",
      "Epoch 5\n",
      "---------------------------------------\n",
      "Loss: 2.297501 [    0/60000]\n",
      "Loss: 2.297345 [ 6400/60000]\n",
      "Loss: 2.296318 [12800/60000]\n",
      "Loss: 2.297278 [19200/60000]\n",
      "Loss: 2.295685 [25600/60000]\n",
      "Loss: 2.295357 [32000/60000]\n",
      "Loss: 2.296144 [38400/60000]\n",
      "Loss: 2.294628 [44800/60000]\n",
      "Loss: 2.297057 [51200/60000]\n",
      "Loss: 2.295016 [57600/60000]\n",
      "Test Error: \n",
      " Accuracy: 42.0%, Avg Loss: 2.295203 \n",
      "\n",
      "Epoch 6\n",
      "---------------------------------------\n",
      "Loss: 2.296045 [    0/60000]\n",
      "Loss: 2.295897 [ 6400/60000]\n",
      "Loss: 2.294524 [12800/60000]\n",
      "Loss: 2.295810 [19200/60000]\n",
      "Loss: 2.293946 [25600/60000]\n",
      "Loss: 2.293301 [32000/60000]\n",
      "Loss: 2.294639 [38400/60000]\n",
      "Loss: 2.292712 [44800/60000]\n",
      "Loss: 2.295506 [51200/60000]\n",
      "Loss: 2.293113 [57600/60000]\n",
      "Test Error: \n",
      " Accuracy: 44.5%, Avg Loss: 2.293390 \n",
      "\n",
      "Epoch 7\n",
      "---------------------------------------\n",
      "Loss: 2.294454 [    0/60000]\n",
      "Loss: 2.294316 [ 6400/60000]\n",
      "Loss: 2.292549 [12800/60000]\n",
      "Loss: 2.294177 [19200/60000]\n",
      "Loss: 2.292011 [25600/60000]\n",
      "Loss: 2.290994 [32000/60000]\n",
      "Loss: 2.292954 [38400/60000]\n",
      "Loss: 2.290550 [44800/60000]\n",
      "Loss: 2.293778 [51200/60000]\n",
      "Loss: 2.290955 [57600/60000]\n",
      "Test Error: \n",
      " Accuracy: 46.5%, Avg Loss: 2.291354 \n",
      "\n",
      "Epoch 8\n",
      "---------------------------------------\n",
      "Loss: 2.292698 [    0/60000]\n",
      "Loss: 2.292552 [ 6400/60000]\n",
      "Loss: 2.290334 [12800/60000]\n",
      "Loss: 2.292336 [19200/60000]\n",
      "Loss: 2.289791 [25600/60000]\n",
      "Loss: 2.288372 [32000/60000]\n",
      "Loss: 2.291031 [38400/60000]\n",
      "Loss: 2.288085 [44800/60000]\n",
      "Loss: 2.291822 [51200/60000]\n",
      "Loss: 2.288472 [57600/60000]\n",
      "Test Error: \n",
      " Accuracy: 48.5%, Avg Loss: 2.289035 \n",
      "\n",
      "Epoch 9\n",
      "---------------------------------------\n",
      "Loss: 2.290721 [    0/60000]\n",
      "Loss: 2.290538 [ 6400/60000]\n",
      "Loss: 2.287810 [12800/60000]\n",
      "Loss: 2.290225 [19200/60000]\n",
      "Loss: 2.287192 [25600/60000]\n",
      "Loss: 2.285327 [32000/60000]\n",
      "Loss: 2.288813 [38400/60000]\n",
      "Loss: 2.285220 [44800/60000]\n",
      "Loss: 2.289584 [51200/60000]\n",
      "Loss: 2.285574 [57600/60000]\n",
      "Test Error: \n",
      " Accuracy: 49.4%, Avg Loss: 2.286348 \n",
      "\n",
      "Epoch 10\n",
      "---------------------------------------\n",
      "Loss: 2.288454 [    0/60000]\n",
      "Loss: 2.288200 [ 6400/60000]\n",
      "Loss: 2.284882 [12800/60000]\n",
      "Loss: 2.287766 [19200/60000]\n",
      "Loss: 2.284081 [25600/60000]\n",
      "Loss: 2.281707 [32000/60000]\n",
      "Loss: 2.286205 [38400/60000]\n",
      "Loss: 2.281809 [44800/60000]\n",
      "Loss: 2.286984 [51200/60000]\n",
      "Loss: 2.282124 [57600/60000]\n",
      "Test Error: \n",
      " Accuracy: 48.8%, Avg Loss: 2.283174 \n",
      "\n",
      "Done..!\n"
     ]
    }
   ],
   "source": [
    "epochs = 5\n",
    "for t in range(epochs):\n",
    "    print(f\"Epoch {t+1}\\n---------------------------------------\")\n",
    "    train(train_dataloader, model, loss_fn, optimizer)\n",
    "    test(test_dataloader, model, loss_fn)\n",
    "\n",
    "print(\"Done..!\")"
   ]
  },
  {
   "cell_type": "code",
   "execution_count": 7,
   "metadata": {},
   "outputs": [
    {
     "name": "stdout",
     "output_type": "stream",
     "text": [
      "Saved PyTorch Model State\n"
     ]
    }
   ],
   "source": [
    "torch.save(model.state_dict(), \"./weights/my_first_model_FashinMNIST_NN.pth\")\n",
    "print(\"Saved PyTorch Model State\")"
   ]
  },
  {
   "cell_type": "code",
   "execution_count": 8,
   "metadata": {},
   "outputs": [
    {
     "data": {
      "text/plain": [
       "<All keys matched successfully>"
      ]
     },
     "execution_count": 8,
     "metadata": {},
     "output_type": "execute_result"
    }
   ],
   "source": [
    "model = NeuralNetwork()\n",
    "model.load_state_dict(torch.load(\"./weights/my_first_model_FashinMNIST_NN.pth\"))"
   ]
  },
  {
   "cell_type": "code",
   "execution_count": 15,
   "metadata": {},
   "outputs": [
    {
     "name": "stdout",
     "output_type": "stream",
     "text": [
      "9\n",
      "tensor([[0.0918, 0.0890, 0.1033, 0.0875, 0.0942, 0.0873, 0.0907, 0.1076, 0.1175,\n",
      "         0.1311]])\n",
      "Predicted: Ankle boot, Actual: Ankle boot\n"
     ]
    },
    {
     "data": {
      "image/png": "[encoded data removed]",
      "text/plain": [
       "<Figure size 640x480 with 1 Axes>"
      ]
     },
     "metadata": {},
     "output_type": "display_data"
    }
   ],
   "source": [
    "classes = [\n",
    "    \"T-shirt/top\",\n",
    "    \"Trouser\",\n",
    "    \"Pullover\",\n",
    "    \"Dress\",\n",
    "    \"Coat\",\n",
    "    \"Sandal\",\n",
    "    \"Shirt\",\n",
    "    \"Sneaker\",\n",
    "    \"Bag\",\n",
    "    \"Ankle boot\",\n",
    "]\n",
    "\n",
    "model.eval()\n",
    "x,y = test_data[0][0], test_data[0][1]\n",
    "print(y)\n",
    "with torch.no_grad():\n",
    "    pred = model(x)\n",
    "    print(pred)\n",
    "    predicted, actual = classes[pred[0].argmax(0)], classes[y]\n",
    "    print(f\"Predicted: {predicted}, Actual: {actual}\")\n",
    "    image = x.numpy()\n",
    "    image = image.reshape([image.shape[1], image.shape[2]])\n",
    "    plt.imshow(image)\n",
    "    plt.axis('off')\n",
    "    plt.title(f\"Predicted: {predicted}, Actual: {actual}\")\n",
    "    plt.show()"
   ]
  },
  {
   "cell_type": "code",
   "execution_count": null,
   "metadata": {},
   "outputs": [],
   "source": []
  }
 ],
 "metadata": {
  "kernelspec": {
   "display_name": "Python 3.8.12 ('DL_PT')",
   "language": "python",
   "name": "python3"
  },
  "language_info": {
   "codemirror_mode": {
    "name": "ipython",
    "version": 3
   },
   "file_extension": ".py",
   "mimetype": "text/x-python",
   "name": "python",
   "nbconvert_exporter": "python",
   "pygments_lexer": "ipython3",
   "version": "3.8.12"
  },
  "orig_nbformat": 4,
  "vscode": {
   "interpreter": {
    "hash": "f0f48898c4b18233cc76a2987cd88405e29ffeb628d5e439f4035f1d0e31c47a"
   }
  }
 },
 "nbformat": 4,
 "nbformat_minor": 2
}
