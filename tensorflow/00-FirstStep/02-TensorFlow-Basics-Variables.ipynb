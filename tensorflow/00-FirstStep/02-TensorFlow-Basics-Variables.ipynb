{
 "cells": [
  {
   "cell_type": "code",
   "execution_count": 1,
   "metadata": {},
   "outputs": [],
   "source": [
    "import tensorflow as tf\n",
    "import numpy as np"
   ]
  },
  {
   "attachments": {},
   "cell_type": "markdown",
   "metadata": {},
   "source": [
    "# Variables\n",
    "\n",
    "- A variable is tensor which value cab be changed in run time. \n",
    "- Specific Tensorflow operations allow us to read and modify the values of this tensor.\n",
    "- Generally model paramters stored in Variables (as value of the tensor changes in each iteration.). \n",
    "- like tensors variables also have dtype and shape functions and can be exported to numpy.\n",
    "- Most tensor operations work on variables but varaibles cannot be reshaped (instead it copies and creates a new tensor).  \n",
    "- Like Tensors Variables also immutable but we have special operation \"assign\" which assign the values to the memoery used by the Tensor. So we need to make sure that shapes are equal\n",
    "\n",
    "\n",
    "Here are some examples of a variable"
   ]
  },
  {
   "cell_type": "code",
   "execution_count": 3,
   "metadata": {},
   "outputs": [],
   "source": [
    "tf_var1 = tf.Variable([[1.0, 2.0],[3.0,4.0]])\n",
    "tf_bool_var = tf.Variable([False, True])\n",
    "tf_complex_var = tf.Variable([5+4j, 6+3j])"
   ]
  },
  {
   "cell_type": "code",
   "execution_count": 4,
   "metadata": {},
   "outputs": [
    {
     "name": "stdout",
     "output_type": "stream",
     "text": [
      "Shape:  (2, 2)\n",
      "Dtyepe:  <dtype: 'bool'>\n",
      "As Numpy:  [5.+4.j 6.+3.j]\n"
     ]
    }
   ],
   "source": [
    "print(\"Shape: \", tf_var1.shape)\n",
    "print(\"Dtyepe: \", tf_bool_var.dtype)\n",
    "print(\"As Numpy: \", tf_complex_var.numpy())"
   ]
  },
  {
   "cell_type": "code",
   "execution_count": 6,
   "metadata": {},
   "outputs": [
    {
     "data": {
      "text/plain": [
       "<tf.Tensor: shape=(1, 4), dtype=float32, numpy=array([[1., 2., 3., 4.]], dtype=float32)>"
      ]
     },
     "execution_count": 6,
     "metadata": {},
     "output_type": "execute_result"
    }
   ],
   "source": [
    "# Reshaping is not allowed so it will copy the values and create a new tensor instead\n",
    "tf.reshape(tf_var1,[1,4])"
   ]
  },
  {
   "cell_type": "code",
   "execution_count": 10,
   "metadata": {},
   "outputs": [
    {
     "name": "stdout",
     "output_type": "stream",
     "text": [
      "Uses the memory:  <tf.Variable 'UnreadVariable' shape=(2,) dtype=bool, numpy=array([ True,  True])>\n",
      "ValueError: Cannot assign value to variable ' Variable:0': Shape mismatch.The variable shape (2,), and the assigned value shape (3,) are incompatible.\n"
     ]
    }
   ],
   "source": [
    "# assign uses the Variable (tensor) memory isntead allocating a new tensor\n",
    "print(\"Uses the memory: \", tf_bool_var.assign([True, True]))\n",
    "try:\n",
    "  tf_bool_var.assign([True, True, True])\n",
    "except Exception as e:\n",
    "  print(f\"{type(e).__name__}: {e}\")"
   ]
  },
  {
   "cell_type": "code",
   "execution_count": 11,
   "metadata": {},
   "outputs": [
    {
     "name": "stdout",
     "output_type": "stream",
     "text": [
      "Variable a: <tf.Variable 'Variable:0' shape=(2,) dtype=int32, numpy=array([2, 3])>\n",
      "Variable b:  <tf.Variable 'Variable:0' shape=(2,) dtype=int32, numpy=array([1, 2])>\n",
      "[4 6]\n",
      "[1 1]\n"
     ]
    }
   ],
   "source": [
    "a = tf.Variable([1,2])\n",
    "b = tf.Variable(a)\n",
    "a.assign([2,3])\n",
    "print(\"Variable a:\", a)\n",
    "print(\"Variable b: \", b)\n",
    "print(a.assign_add([2,3]).numpy())\n",
    "print(a.assign_sub([3,5]).numpy()) "
   ]
  },
  {
   "cell_type": "code",
   "execution_count": 14,
   "metadata": {},
   "outputs": [
    {
     "name": "stdout",
     "output_type": "stream",
     "text": [
      "<tf.Variable 'Mark:0' shape=(2,) dtype=int32, numpy=array([1, 2])>\n",
      "<tf.Variable 'Mark:0' shape=(2,) dtype=int32, numpy=array([3, 4])>\n",
      "tf.Tensor([False False], shape=(2,), dtype=bool)\n"
     ]
    }
   ],
   "source": [
    "# In Python-based TensorFlow, tf.Variable instance have the same lifecycle as other Python objects. When there are no references to a variable it is automatically deallocated.\n",
    "# Variables can also be named which can help you track and debug them. You can give two variables the same name.\n",
    "# Variable names are preserved when saving and loading models. \n",
    "# By default, variables in models will acquire unique variable names automatically, so you don't need to assign them yourself unless you want to.\n",
    "a = tf.Variable([1,2], name=\"Mark\")\n",
    "b = tf.Variable([3,4], name=\"Mark\")\n",
    "print(a)\n",
    "print(b)\n",
    "print(a==b)\n"
   ]
  },
  {
   "cell_type": "code",
   "execution_count": 13,
   "metadata": {},
   "outputs": [
    {
     "data": {
      "text/plain": [
       "<tf.Variable 'Variable:0' shape=() dtype=int32, numpy=1>"
      ]
     },
     "execution_count": 13,
     "metadata": {},
     "output_type": "execute_result"
    }
   ],
   "source": [
    "# Although variables are important for differentiation, some variables will not need to be differentiated. \n",
    "# You can turn off gradients for a variable by setting trainable to false at creation. \n",
    "# An example of a variable that would not need gradients is a training step counter.\n",
    "step_counter = tf.Variable(1, trainable=False)\n",
    "step_counter"
   ]
  },
  {
   "cell_type": "code",
   "execution_count": 15,
   "metadata": {},
   "outputs": [
    {
     "name": "stdout",
     "output_type": "stream",
     "text": [
      "tf.Tensor(\n",
      "[[22. 28.]\n",
      " [49. 64.]], shape=(2, 2), dtype=float32)\n"
     ]
    }
   ],
   "source": [
    "# For better performance, TensorFlow will attempt to place tensors and variables on the fastest device compatible with its dtype. \n",
    "# This means most variables are placed on a GPU if one is available.\n",
    "# However, you can override this. In this snippet, place a float tensor and a variable on the CPU, even if a GPU is available. \n",
    "# By turning on device placement logging (see Setup), you can see where the variable is placed.\n",
    "# If you run this notebook on different backends with and without a GPU you will see different logging. \n",
    "# Note that logging device placement must be turned on at the start of the session.\n",
    "tf.debugging.set_log_device_placement(True)\n",
    "with tf.device('CPU:0'):\n",
    "\n",
    "  # Create some tensors\n",
    "  a = tf.Variable([[1.0, 2.0, 3.0], [4.0, 5.0, 6.0]])\n",
    "  b = tf.constant([[1.0, 2.0], [3.0, 4.0], [5.0, 6.0]])\n",
    "  c = tf.matmul(a, b)\n",
    "\n",
    "print(c)"
   ]
  },
  {
   "cell_type": "code",
   "execution_count": 16,
   "metadata": {},
   "outputs": [
    {
     "name": "stdout",
     "output_type": "stream",
     "text": [
      "tf.Tensor(\n",
      "[[ 1.  4.  9.]\n",
      " [ 4. 10. 18.]], shape=(2, 3), dtype=float32)\n"
     ]
    }
   ],
   "source": [
    "# It's possible to set the location of a variable or tensor on one device and do the computation on another device. \n",
    "# This will introduce delay, as data needs to be copied between the devices.\n",
    "# You might do this, however, if you had multiple GPU workers but only want one copy of the variables.\n",
    "with tf.device('CPU:0'):\n",
    "  a = tf.Variable([[1.0, 2.0, 3.0], [4.0, 5.0, 6.0]])\n",
    "  b = tf.Variable([[1.0, 2.0, 3.0]])\n",
    "\n",
    "with tf.device('GPU:0'):\n",
    "  # Element-wise multiply\n",
    "  k = a * b\n",
    "\n",
    "print(k)"
   ]
  },
  {
   "cell_type": "code",
   "execution_count": null,
   "metadata": {},
   "outputs": [],
   "source": []
  }
 ],
 "metadata": {
  "kernelspec": {
   "display_name": "DL_PT",
   "language": "python",
   "name": "python3"
  },
  "language_info": {
   "codemirror_mode": {
    "name": "ipython",
    "version": 3
   },
   "file_extension": ".py",
   "mimetype": "text/x-python",
   "name": "python",
   "nbconvert_exporter": "python",
   "pygments_lexer": "ipython3",
   "version": "3.8.12"
  },
  "orig_nbformat": 4,
  "vscode": {
   "interpreter": {
    "hash": "f0f48898c4b18233cc76a2987cd88405e29ffeb628d5e439f4035f1d0e31c47a"
   }
  }
 },
 "nbformat": 4,
 "nbformat_minor": 2
}
