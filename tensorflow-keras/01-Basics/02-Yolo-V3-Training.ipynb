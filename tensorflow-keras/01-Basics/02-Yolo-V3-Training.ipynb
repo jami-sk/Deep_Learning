{
 "cells": [
  {
   "cell_type": "markdown",
   "metadata": {},
   "source": [
    "### YOLO-V3-Training on Custom Data\n",
    "- Clone The Repository (Yolo v3 from https://github.com/ultralytics/yolov3)\n",
    "- Update the architecture based of the application\n",
    "- Load and Preprocess Data\n",
    "- Arrange Data in Required Format\n",
    "- Train The Model\n",
    "- Model Evaluation"
   ]
  },
  {
   "cell_type": "markdown",
   "metadata": {},
   "source": []
  }
 ],
 "metadata": {
  "kernelspec": {
   "display_name": "Python 3.8.10 ('DL_TF')",
   "language": "python",
   "name": "python3"
  },
  "language_info": {
   "name": "python",
   "version": "3.8.10"
  },
  "orig_nbformat": 4,
  "vscode": {
   "interpreter": {
    "hash": "948d505e6a6d7f649fbd0db86d942010ad20f6083c1676336ac410c28aeae8e3"
   }
  }
 },
 "nbformat": 4,
 "nbformat_minor": 2
}
