{
 "cells": [
  {
   "cell_type": "markdown",
   "metadata": {},
   "source": [
    "## Pillow Basics and usgae guide\n",
    "This Notebook contains the basics of pillow from loading an image to manipulating the images.\n",
    "\n",
    "Most of the content is influenced and some times copied from pillow original reference which is available [here](https://pillow.readthedocs.io/en/stable/).\n",
    "\n",
    "Here are some contents:\n",
    "1. [Installation](#installation)\n",
    "2. [PIL vs Pillow](#PILvsPillow)\n",
    "3. [Python Support](#PythonSupport)\n",
    "\n",
    "\n",
    "---"
   ]
  },
  {
   "cell_type": "markdown",
   "metadata": {},
   "source": [
    "### <a id='installation'>Installation</a>"
   ]
  },
  {
   "cell_type": "code",
   "execution_count": 2,
   "metadata": {},
   "outputs": [],
   "source": [
    "# To install pillow latest version uncomment the following command and run the cell\n",
    "# %pip install pillow\n",
    "# To install the pillow specific version uncomment the following command and replace 'x' with the version number \n",
    "# %pip install pillow==x.x.x (we can use other syntaxes like >= 9.0 which installs the latest version after 9.0 )\n",
    "# if you want to upgrade the existing version of pillow, uncomment the below code and run the cell\n",
    "# %pip install --upgrade pillow"
   ]
  },
  {
   "cell_type": "code",
   "execution_count": 3,
   "metadata": {},
   "outputs": [
    {
     "name": "stdout",
     "output_type": "stream",
     "text": [
      "Pillow Library Version: 9.2.0\n"
     ]
    }
   ],
   "source": [
    "# to test the installed version of pillow run the following cell\n",
    "import PIL\n",
    "print(f\"Pillow Library Version: {PIL.__version__}\")"
   ]
  },
  {
   "cell_type": "markdown",
   "metadata": {},
   "source": [
    "### <a id='PILvsPillow'>PIL vs Pillow (PIL Fork)</a>\n"
   ]
  },
  {
   "cell_type": "markdown",
   "metadata": {},
   "source": [
    "- Pillow is forked version of PIL (Python Imaging Library) which doesn't have any updates since the release 1.1.7 (2009) but not terminated.\n",
    "- Support for Python Imaging Library got discontinued in 2011, but a project named pillow forked the original PIL project and added Python3.x support to it. Pillow was announced as a replacement for PIL for future usage. \n",
    "- Pillow supports a large number of image file formats including BMP, PNG, JPEG, and TIFF.\n",
    "\n",
    "**Pillow and PIL cannot co-exist in the same environment. before installing Pillow, we need to uninstall PIL**"
   ]
  },
  {
   "cell_type": "markdown",
   "metadata": {},
   "source": [
    "### <a id='PythonSupport'>Python Support</a>"
   ]
  },
  {
   "cell_type": "markdown",
   "metadata": {},
   "source": [
    "Pillow supports following Python Versions: \n",
    "![](C:/Users/F85SJ00/Desktop/Pillow-Python-Support.jpg?version%3D1662461975535)"
   ]
  },
  {
   "cell_type": "markdown",
   "metadata": {},
   "source": []
  }
 ],
 "metadata": {
  "kernelspec": {
   "display_name": "Python 3.8.12 ('DL_PT')",
   "language": "python",
   "name": "python3"
  },
  "language_info": {
   "codemirror_mode": {
    "name": "ipython",
    "version": 3
   },
   "file_extension": ".py",
   "mimetype": "text/x-python",
   "name": "python",
   "nbconvert_exporter": "python",
   "pygments_lexer": "ipython3",
   "version": "3.8.12"
  },
  "orig_nbformat": 4,
  "vscode": {
   "interpreter": {
    "hash": "f0f48898c4b18233cc76a2987cd88405e29ffeb628d5e439f4035f1d0e31c47a"
   }
  }
 },
 "nbformat": 4,
 "nbformat_minor": 2
}
